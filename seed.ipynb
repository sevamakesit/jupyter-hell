{
 "cells": [
  {
   "cell_type": "code",
   "execution_count": 2,
   "id": "a4205d01-16dc-404a-8f79-e150977dfa18",
   "metadata": {},
   "outputs": [],
   "source": [
    "import hashlib\n",
    "import binascii"
   ]
  },
  {
   "cell_type": "code",
   "execution_count": 3,
   "id": "9ed4c6e2-e610-4836-8c09-48da909cbb96",
   "metadata": {},
   "outputs": [],
   "source": [
    "entropy = hashlib.sha256(b'seva').hexdigest()\n"
   ]
  },
  {
   "cell_type": "code",
   "execution_count": 4,
   "id": "7c4d74b1-423d-48c5-ab57-0c5f99e86058",
   "metadata": {},
   "outputs": [
    {
     "data": {
      "text/plain": [
       "'483c8727c6b4ee6a48035c33850c9ca99f255395f196a824a9f2e4a78e9f4059'"
      ]
     },
     "execution_count": 4,
     "metadata": {},
     "output_type": "execute_result"
    }
   ],
   "source": [
    "entropy"
   ]
  },
  {
   "cell_type": "code",
   "execution_count": 5,
   "id": "a4719a44-96af-4649-bf1d-2c3fc6d31ea4",
   "metadata": {},
   "outputs": [],
   "source": [
    "data = entropy.strip()"
   ]
  },
  {
   "cell_type": "code",
   "execution_count": 6,
   "id": "f31fa7a4-aab5-474f-a573-1b2d2c01b4d4",
   "metadata": {},
   "outputs": [
    {
     "data": {
      "text/plain": [
       "'483c8727c6b4ee6a48035c33850c9ca99f255395f196a824a9f2e4a78e9f4059'"
      ]
     },
     "execution_count": 6,
     "metadata": {},
     "output_type": "execute_result"
    }
   ],
   "source": [
    "data"
   ]
  },
  {
   "cell_type": "code",
   "execution_count": 7,
   "id": "8797c6ef-a763-4972-a61a-14184388a303",
   "metadata": {},
   "outputs": [],
   "source": [
    "data = binascii.unhexlify(data)"
   ]
  },
  {
   "cell_type": "code",
   "execution_count": 8,
   "id": "33a4bb3c-bf40-4738-9316-9c389a8f83d2",
   "metadata": {},
   "outputs": [],
   "source": [
    "if len(data) not in [16, 20, 24, 28, 32]:\n",
    "   raise ValueError(\n",
    "  \"Data length should be one of the following: [16, 20, 24, 28, 32], but it is not (%d).\" % len(data)\n",
    "   )"
   ]
  },
  {
   "cell_type": "code",
   "execution_count": 13,
   "id": "b8d7e2b9-98f5-422f-9f2e-9efc3a9d3e1f",
   "metadata": {},
   "outputs": [],
   "source": [
    "h = hashlib.sha256(data).hexdigest()\n",
    "b = bin(int(binascii.hexlify(data),16))[2:].zfill(len(data)*8) + bin(int(h,16))[2:].zfill(256)[: len(data)* 8//32]"
   ]
  },
  {
   "cell_type": "code",
   "execution_count": 11,
   "id": "97b98433",
   "metadata": {},
   "outputs": [],
   "source": [
    "with open(\"./wordlists/english.txt\", \"r\") as f:\n",
    "         wordlist = [w.strip() for w in f.readlines()]"
   ]
  },
  {
   "cell_type": "code",
   "execution_count": 14,
   "id": "b903d83e",
   "metadata": {},
   "outputs": [
    {
     "name": "stdout",
     "output_type": "stream",
     "text": [
      "['else', 'tomorrow', 'size', 'miracle', 'exclude', 'cry', 'cactus', 'high', 'crime', 'chronic', 'cheese', 'farm', 'venture', 'prefer', 'fit', 'crazy', 'popular', 'census', 'lake', 'sing', 'jump', 'exile', 'accident', 'casual']\n"
     ]
    }
   ],
   "source": [
    "seed = []\n",
    "for i in range(len(b)//11):\n",
    "    indx = int(b[11*i:11*(i+1)],2)\n",
    "    seed.append(wordlist[indx])\n",
    "#print(entropy)\n",
    "print(seed) "
   ]
  },
  {
   "cell_type": "code",
   "execution_count": null,
   "id": "0f65fc18",
   "metadata": {},
   "outputs": [],
   "source": []
  }
 ],
 "metadata": {
  "kernelspec": {
   "display_name": "Python 3 (ipykernel)",
   "language": "python",
   "name": "python3"
  },
  "language_info": {
   "codemirror_mode": {
    "name": "ipython",
    "version": 3
   },
   "file_extension": ".py",
   "mimetype": "text/x-python",
   "name": "python",
   "nbconvert_exporter": "python",
   "pygments_lexer": "ipython3",
   "version": "3.9.9"
  }
 },
 "nbformat": 4,
 "nbformat_minor": 5
}
